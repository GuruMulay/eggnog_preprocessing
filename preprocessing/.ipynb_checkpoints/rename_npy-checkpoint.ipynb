{
 "cells": [
  {
   "cell_type": "code",
   "execution_count": 21,
   "metadata": {},
   "outputs": [],
   "source": [
    "import os"
   ]
  },
  {
   "cell_type": "code",
   "execution_count": 47,
   "metadata": {
    "scrolled": true
   },
   "outputs": [
    {
     "name": "stdout",
     "output_type": "stream",
     "text": [
      "['part2_layout_p07', 'part1_layout_p08']\n",
      "processing /s/red/b/nobackup/data/eggnog_cpm/eggnog_cpm/s04 part2_layout_p07 ==============================\n",
      "processing video 20151113_230916_00_Video\n",
      "processing video 20151113_230303_00_Video\n",
      "processing video 20151113_231040_00_Video\n",
      "processing video 20151113_230739_00_Video\n",
      "processing video 20151113_231148_00_Video\n",
      "processing video 20151113_230041_00_Video\n",
      "processing video 20151113_225947_00_Video\n",
      "processing video 20151113_230200_00_Video\n",
      "processing video 20151113_225809_00_Video\n",
      "processing video 20151113_230636_00_Video\n",
      "processing /s/red/b/nobackup/data/eggnog_cpm/eggnog_cpm/s04 part1_layout_p08 ==============================\n",
      "processing video 20151113_224707_00_Video\n",
      "processing video 20151113_224154_00_Video\n",
      "processing video 20151113_224853_00_Video\n",
      "processing video 20151113_225206_00_Video\n",
      "processing video 20151113_223852_00_Video\n",
      "processing video 20151113_224003_00_Video\n",
      "processing video 20151113_225331_00_Video\n",
      "processing video 20151113_223703_00_Video\n",
      "processing video 20151113_224315_00_Video\n",
      "processing video 20151113_225008_00_Video\n"
     ]
    }
   ],
   "source": [
    "sessions = os.listdir(session_dir)\n",
    "print(sessions)\n",
    "\n",
    "session_dir = \"/s/red/b/nobackup/data/eggnog_cpm/eggnog_cpm/s04\"\n",
    "\n",
    "\n",
    "for layout in os.listdir(session_dir):\n",
    "    print(\"processing\", session_dir, layout, \"==============================\")\n",
    "    for vf in os.listdir(os.path.join(session_dir, layout)):\n",
    "        print(\"processing video\", vf)\n",
    "        for n in os.listdir(os.path.join(session_dir, s, layout, vf)):\n",
    "            if n.endswith(\".npy\"):\n",
    "                print(n, n.split(\"skfr\")[0] + \"skfr_00000.npy\")\n",
    "#                 os.rename(n, n.split(\"skfr\")[0] + \"skfr_00000.npy\")"
   ]
  },
  {
   "cell_type": "code",
   "execution_count": null,
   "metadata": {},
   "outputs": [],
   "source": []
  }
 ],
 "metadata": {
  "kernelspec": {
   "display_name": "Python 3",
   "language": "python",
   "name": "python3"
  },
  "language_info": {
   "codemirror_mode": {
    "name": "ipython",
    "version": 3
   },
   "file_extension": ".py",
   "mimetype": "text/x-python",
   "name": "python",
   "nbconvert_exporter": "python",
   "pygments_lexer": "ipython3",
   "version": "3.6.5"
  }
 },
 "nbformat": 4,
 "nbformat_minor": 2
}
